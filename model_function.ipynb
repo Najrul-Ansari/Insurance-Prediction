{
 "cells": [
  {
   "cell_type": "code",
   "execution_count": 1,
   "id": "6cbb276f",
   "metadata": {},
   "outputs": [
    {
     "name": "stdout",
     "output_type": "stream",
     "text": [
      "CPU times: total: 2.62 s\n",
      "Wall time: 3.95 s\n"
     ]
    }
   ],
   "source": [
    "%%time\n",
    "import pandas as pd\n",
    "import time\n",
    "import numpy as np\n",
    "from sklearn.neighbors import KNeighborsClassifier\n",
    "from sklearn.linear_model import LogisticRegression,LinearRegression\n",
    "from sklearn.tree import DecisionTreeClassifier\n",
    "from sklearn.ensemble import RandomForestClassifier\n",
    "from sklearn.preprocessing import StandardScaler\n",
    "from sklearn.svm import SVC\n",
    "from sklearn.metrics import accuracy_score, confusion_matrix, classification_report,precision_score,mean_squared_error\n",
    "from sklearn.metrics import recall_score, f1_score\n",
    "\n",
    "### Importing data\n",
    "def read_data():\n",
    "    try:\n",
    "        train_data = pd.read_csv(r\"C:\\Users\\Pc\\OneDrive\\Pictures\\Data science assignments\\week 18\\Assignments\\Health Insurance Prediction\\train_cleaned.csv\")\n",
    "        test_data = pd.read_csv(r\"C:\\Users\\Pc\\OneDrive\\Pictures\\Data science assignments\\week 18\\Assignments\\Health Insurance Prediction\\test_cleaned.csv\")\n",
    "        ytest_data = pd.read_csv(r\"C:\\Users\\Pc\\OneDrive\\Pictures\\Data science assignments\\week 18\\Assignments\\Health Insurance Prediction\\sample_submission.csv\")\n",
    "        return train_data, test_data, ytest_data\n",
    "    except Exception as e:\n",
    "        print(\"Data path Not Found and the error is in Read Data Function\")\n",
    "\n",
    "### Data Prep Functions\n",
    "def data_prep(train_data, test_data, ytest_data):\n",
    "    try:\n",
    "        X_train = train_data[['Age', 'Driving_License', 'Region_Code', 'Previously_Insured',\n",
    "                        'Vehicle_Damage', 'Annual_Premium', 'Policy_Sales_Channel', 'Vintage', 'Vehicle_Age_1-2 Year', \n",
    "                        'Vehicle_Age_< 1 Year','Vehicle_Age_> 2 Years', 'Gender_Female', 'Gender_Male']]\n",
    "        y_train = train_data['Response']\n",
    "        X_test = test_data[['Age', 'Driving_License', 'Region_Code', 'Previously_Insured',\n",
    "                        'Vehicle_Damage', 'Annual_Premium', 'Policy_Sales_Channel', 'Vintage', 'Vehicle_Age_1-2 Year', \n",
    "                        'Vehicle_Age_< 1 Year','Vehicle_Age_> 2 Years', 'Gender_Female', 'Gender_Male']]\n",
    "        y_test = ytest_data['Response']\n",
    "        return X_train,X_test,y_train,y_test\n",
    "    except Exception as e:\n",
    "        print(\"the error is in the Data Prep Function.\")\n",
    "\n",
    "### Decision Tree model call function\n",
    "def decision_tree(X_train,y_train,X_test):\n",
    "    dt_model = DecisionTreeClassifier(criterion='entropy',max_depth =5)\n",
    "    dt_model_fit = dt_model.fit(X_train,y_train)\n",
    "    pred = dt_model_fit.predict(X_test)\n",
    "    return pred\n",
    "\n",
    "def kn_classifier(X_train,y_train,X_test):\n",
    "    knc_model = KNeighborsClassifier(n_neighbors=15)\n",
    "    knc_model_fit = knc_model.fit(X_train,y_train)\n",
    "    pred = knc_model_fit.predict(X_test)\n",
    "    return pred\n",
    "\n",
    "def rf_classifier(X_train,y_train,X_test):\n",
    "    rf_model = RandomForestClassifier(criterion='entropy',max_depth =5)\n",
    "    rf_model_fit = rf_model.fit(X_train,y_train)\n",
    "    pred = rf_model_fit.predict(X_test)\n",
    "    return pred\n",
    "\n",
    "def log_model(X_train,y_train,X_test):\n",
    "    log_model = LogisticRegression(max_iter=1000)\n",
    "    log_model_fit = log_model.fit(X_train,y_train)\n",
    "    pred = log_model_fit.predict(X_test)\n",
    "    return pred\n",
    "\n",
    "def model_diag(y_test,pred):\n",
    "    acc = accuracy_score(y_test,pred)\n",
    "    prc = precision_score(y_test,pred,zero_division=1)\n",
    "    clf = classification_report(y_test,pred)\n",
    "    conf = confusion_matrix(y_test,pred)\n",
    "    rmse = np.sqrt(mean_squared_error(y_test,pred))\n",
    "    recall = recall_score(y_test,pred, average='macro', zero_division=1)\n",
    "    f1 = f1_score(y_test,pred, average='macro', zero_division=1)\n",
    "    return acc, prc,clf,conf,rmse,recall,f1"
   ]
  },
  {
   "cell_type": "code",
   "execution_count": null,
   "id": "814bf58f",
   "metadata": {},
   "outputs": [],
   "source": []
  }
 ],
 "metadata": {
  "kernelspec": {
   "display_name": "Python 3 (ipykernel)",
   "language": "python",
   "name": "python3"
  },
  "language_info": {
   "codemirror_mode": {
    "name": "ipython",
    "version": 3
   },
   "file_extension": ".py",
   "mimetype": "text/x-python",
   "name": "python",
   "nbconvert_exporter": "python",
   "pygments_lexer": "ipython3",
   "version": "3.10.7"
  }
 },
 "nbformat": 4,
 "nbformat_minor": 5
}
